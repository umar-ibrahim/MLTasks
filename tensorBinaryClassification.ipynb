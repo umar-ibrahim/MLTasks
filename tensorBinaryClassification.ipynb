{
 "cells": [
  {
   "cell_type": "markdown",
   "id": "c9da0b01",
   "metadata": {},
   "source": [
    "# ML Practice "
   ]
  },
  {
   "cell_type": "code",
   "execution_count": 1,
   "id": "a226c102",
   "metadata": {},
   "outputs": [
    {
     "name": "stdout",
     "output_type": "stream",
     "text": [
      "1/1 [==============================] - 0s 163ms/step - loss: 0.5986 - accuracy: 0.7500\n",
      "Loss: 0.5986, Accuracy: 0.7500\n",
      "1/1 [==============================] - 0s 59ms/step\n",
      "Predictions:\n",
      "[[0.54805493]\n",
      " [0.54805493]\n",
      " [0.54798526]\n",
      " [0.32785553]]\n"
     ]
    }
   ],
   "source": [
    "import tensorflow as tf\n",
    "from tensorflow import keras\n",
    "import numpy as np\n",
    "\n",
    "# Create a simple synthetic dataset\n",
    "# Two features (X) and a binary target variable (y)\n",
    "X = np.array([[0, 0], [0, 1], [1, 0], [1, 1]], dtype=np.float32)\n",
    "y = np.array([0, 1, 1, 0], dtype=np.float32)\n",
    "\n",
    "# Build a simple neural network\n",
    "model = keras.Sequential([\n",
    "    keras.layers.Dense(3, activation='relu', input_shape=(2,)),  # Input layer with ReLU activation\n",
    "    keras.layers.Dense(1, activation='sigmoid')  # Output layer with sigmoid activation for binary classification\n",
    "])\n",
    "\n",
    "# Compile the model\n",
    "model.compile(optimizer='adam', loss='binary_crossentropy', metrics=['accuracy'])\n",
    "\n",
    "# Train the model\n",
    "model.fit(X, y, epochs=1000, verbose=0)  # Training for 1000 epochs\n",
    "\n",
    "# Evaluate the model on the same dataset\n",
    "loss, accuracy = model.evaluate(X, y)\n",
    "print(f'Loss: {loss:.4f}, Accuracy: {accuracy:.4f}')\n",
    "\n",
    "# Make predictions\n",
    "predictions = model.predict(X)\n",
    "print('Predictions:')\n",
    "print(predictions)\n"
   ]
  },
  {
   "cell_type": "code",
   "execution_count": null,
   "id": "02d20d22",
   "metadata": {},
   "outputs": [],
   "source": []
  }
 ],
 "metadata": {
  "kernelspec": {
   "display_name": "Python 3 (ipykernel)",
   "language": "python",
   "name": "python3"
  },
  "language_info": {
   "codemirror_mode": {
    "name": "ipython",
    "version": 3
   },
   "file_extension": ".py",
   "mimetype": "text/x-python",
   "name": "python",
   "nbconvert_exporter": "python",
   "pygments_lexer": "ipython3",
   "version": "3.9.12"
  }
 },
 "nbformat": 4,
 "nbformat_minor": 5
}
